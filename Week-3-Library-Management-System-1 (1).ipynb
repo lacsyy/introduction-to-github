{
  "metadata": {
    "kernelspec": {
      "name": "python",
      "display_name": "Python (Pyodide)",
      "language": "python"
    },
    "language_info": {
      "name": ""
    }
  },
  "nbformat_minor": 5,
  "nbformat": 4,
  "cells": [
    {
      "id": "c604d0c0",
      "cell_type": "markdown",
      "source": "# Library Management System \n\nThis notebook documents the codebase for a **Library Management System** built with Python. It features a SQLite database for data storage and a Tkinter GUI for user interaction. The structure and components of the project are outlined below.\n\n---\n\n## 📂 Python Package Structure\n\n```plaintext\nlibrary_management/\n├── library_management/\n│   ├── __init__.py\n│   ├── database.py\n│   ├── gui.py\n├── app.py\n└── README.md\n```\n\n### Files Overview\n1. **`__init__.py`**: Marks the directory as a Python package.\n2. **`database.py`**: Contains database operations.\n3. **`gui.py`**: Implements the graphical user interface (GUI).\n4. **`app.py`**: Entry point for running the application.\n\n---",
      "metadata": {}
    },
    {
      "id": "55c79ddd",
      "cell_type": "markdown",
      "source": "## 📁 `database.py` - Database Operations\n\nThis module handles all interactions with the SQLite database.\n\n### **Features**\n1. **Database Initialization**:\n   - Creates a SQLite database (`booklibrary.db`) with a table for storing book information.\n\n2. **Operations**:\n   - **Create**: Add new books to the library.\n   - **Read**: Fetch all or search specific books.\n   - **Update**: Modify book details.\n   - **Delete**: Remove books from the library.\n\n3. **Additional Features**:\n   - Borrow and return books by toggling their availability status.\n\n### **Code Highlights**\n```python\n# Database creation\ndef create_db(self):\n    conn = sqlite3.connect(self.db_name)\n    cur = conn.cursor()\n    cur.execute(\"\"\"\n        CREATE TABLE IF NOT EXISTS books (\n            id INTEGER PRIMARY KEY AUTOINCREMENT,\n            title TEXT,\n            author TEXT,\n            genre TEXT,\n            avail INTEGER DEFAULT 1\n        )\n    \"\"\")\n    conn.commit()\n    conn.close()\n```\n```python\n# Borrow a book\ndef borrow_book_in_db(self, book_id):\n    conn = self.connect_db()\n    cur = conn.cursor()\n    cur.execute(\"UPDATE books SET avail = 0 WHERE id=?\", (book_id,))\n    conn.commit()\n    conn.close()\n```\n\n---",
      "metadata": {}
    },
    {
      "id": "414924b6",
      "cell_type": "markdown",
      "source": "## 📁 `gui.py` - Graphical User Interface\n\nThe GUI is implemented using Tkinter, offering an intuitive interface for interacting with the library system.\n\n### **Features**\n1. **Book Details**: Input fields for book title, author, and genre.\n2. **Action Buttons**:\n   - Add, Update, Delete, Borrow, Return, and Search books.\n3. **Book List**: Display books in a table with columns:\n   - ID, Title, Author, Genre, Availability.\n\n4. **Dynamic Book Display**:\n   - Updates book list automatically after any operation.\n\n### **Code Highlights**\n```python\n# Adding book to the library\ndef add_book(self):\n    title = self.title_entry.get()\n    author = self.author_entry.get()\n    genre = self.genre_entry.get()\n    if title and author and genre:\n        self.insert_book(title, author, genre)\n        messagebox.showinfo(\"Success\", \"Book added successfully!\")\n        self.view_books()\n```\n```python\n# GUI setup\nself.title_label = tk.Label(\n    self.root, text=\"BOOK E-LIBRARY\", font=(\"Arial\", 30, \"bold\"), bg='#98918F', fg=\"white\"\n)\nself.title_label.pack(pady=10)\n```\n\n---",
      "metadata": {}
    },
    {
      "id": "d19a965e",
      "cell_type": "markdown",
      "source": "## 📁 `app.py` - Application Entry Point\n\nThis script initializes the GUI application.\n\n### **Code**\n```python\nif __name__ == \"__main__\":\n    root = tk.Tk()\n    app = LibraryManagementSystem(root)\n    root.mainloop()\n```\n\n---",
      "metadata": {}
    },
    {
      "id": "45098ab3",
      "cell_type": "markdown",
      "source": "## 🎯 How It Works\n\n1. **Start the App**:\n   - Run `app.py` to launch the library system.\n\n2. **Perform Operations**:\n   - Use the GUI to manage books:\n     - Add, Update, Delete, Borrow, Return, and Search books.\n\n3. **Data Persistence**:\n   - Book information is saved in the `booklibrary.db` SQLite database.\n\n---",
      "metadata": {}
    },
    {
      "id": "2f215dde",
      "cell_type": "markdown",
      "source": "## 🛠️ Future Enhancements\n\n1. Add user authentication for enhanced security.\n2. Implement advanced search features (e.g., filter by genre or availability).\n3. Enable export/import functionality for book data.\n\n---",
      "metadata": {}
    },
    {
      "id": "294ce819-233a-4acc-8cba-e1c9074fba2b",
      "cell_type": "markdown",
      "source": "## 1. Database Enhancements:\n#### Old Code: No indexes were created, so searches on the title, author, or genre columns would be slower.\n#### New Code: Indexes have been added on the title, author, and genre columns for faster searching.\n## 2. UI Enhancements:\n#### Old Code: No search bar was present for searching books.\n#### New Code: A search bar and search button are added to allow searching by title, author, or genre.\n## 3. Improved Book Availability Status:\n#### Old Code: Availability was just represented by a value (0 or 1) in the database and was not reflected in the UI.\n#### New Code: A column for Availability has been added to the treeview to visually indicate whether a book is \"Available\" or \"Borrowed\".\n## 4. Button Labels and Functionality:\n#### Old Code: Button text was a bit less descriptive (e.g., \"Borrow\" and \"Return\").\n#### New Code: Button texts are more descriptive and consistent (e.g., \"Borrow Book\" and \"Return Book\").\n## 5. Borrow/Return Book Logic:\n#### Old Code: Borrowing and returning books updated the avail status without checking the availability in the UI.\n#### New Code: When borrowing a book, it checks if the book is available before proceeding, and the availability status is displayed as \"Available\" or \"Borrowed\" in the treeview.\n## 6. Error Handling Improvements:\n#### Old Code: There was basic error handling for database operations.\n#### New Code: Improved error handling with try-except blocks around database operations to provide better user feedback in case of failure (e.g., failed book addition, failed book update, etc.).\n## 7. Enhanced view_books() Method:\n#### Old Code: Only displayed available books (i.e., those with avail=1).\n#### New Code: Displays all books with proper availability status (either \"Available\" or \"Borrowed\").\n## 8. Book Deletion Logic:\n#### Old Code: Deleted books could be removed without any confirmation.\n#### New Code: Book deletion is handled with error handling, and there is confirmation if deletion fails.\n## 9. Book Searching:\n#### Old Code: No direct way to search for books.\n#### New Code: Added a search_books() method, allowing users to search for books by title, author, or genre.\n",
      "metadata": {}
    },
    {
      "id": "cc5c6609-14b4-4db8-ba49-5bf58e3b6eac",
      "cell_type": "markdown",
      "source": "# Test Cases and Results:\n## 1. Test Case: Adding a Book\nTest: Add a new book with title \"Python Basics\", author \"John Doe\", and genre \"Programming\".\n### Steps:\n#### • Enter \"Python Basics\" in the title entry.\n#### • Enter \"John Doe\" in the author entry.\n#### • Enter \"Programming\" in the genre entry.\n#### • Click the \"Add Book\" button.\n## Expected Result:\n## A messagebox shows \"Book added successfully!\".",
      "metadata": {}
    },
    {
      "id": "d35a575a-cbab-46a3-b64b-e776395aafff",
      "cell_type": "markdown",
      "source": "## 2. Test Case: Searching for a Book\nTest: Search for a book using the search term \"Python\".\n### Steps:\n#### • Enter \"Python\" in the search entry.\n#### • Click the \"Search\" button.\n## Expected Result:\n## Please fill all fields",
      "metadata": {}
    },
    {
      "id": "cbe7e2e5-c84d-41be-891a-7004e8e03df1",
      "cell_type": "markdown",
      "source": "## 3. Test Case: Borrowing a Book (Available)\nTest: Borrow a book that is available.\n### Steps:\n#### • Select an available book from the treeview.\n#### • Click the \"Borrow Book\" button.\n## Expected Result:\n## A messagebox shows \"Book borrowed successfully!\".\nThe book’s availability status changes to \"Borrowed\" in the treeview.\nThe book is updated in the database with avail=0.\n![](borrowed.png)",
      "metadata": {}
    },
    {
      "id": "45027da4-d91f-4ecd-94f3-52b1729cd56a",
      "cell_type": "markdown",
      "source": "## 4. Test Case: Borrowing a Book (Already Borrowed)\nTest: Try to borrow a book that is already borrowed.\n### Steps:\n#### •Select a book with the availability status \"Borrowed\" in the treeview.\n#### •Click the \"Borrow Book\" button.\n## Expected Result:\n## A messagebox shows \"This book is already borrowed.\" and no changes are made.",
      "metadata": {}
    },
    {
      "id": "e150d28c-6a3a-4e67-8f4d-f371f3bef6dc",
      "cell_type": "markdown",
      "source": "## 5. Test Case: Returning a Book\nTest: Return a borrowed book.\n### Steps:\n#### • Select a borrowed book from the treeview.\n#### • Click the \"Return Book\" button.\n## Expected Result:\n## A messagebox shows \"Book returned successfully!\".\nThe book’s availability status changes to \"Available\" in the treeview.\nThe book is updated in the database with avail=1.\n![](returned.png)",
      "metadata": {}
    },
    {
      "id": "4fd0000e-9213-42df-8718-1c15488c37ed",
      "cell_type": "markdown",
      "source": "## 6. Test Case: Updating Book Details\nTest: Update the title, author, and genre of an existing book.\n### Steps:\n#### • Select a book from the treeview.\n#### • Change the title, author, and genre in the corresponding entry fields.\n#### • Click the \"Update Book\" button.\n## Expected Result:\n## A messagebox shows \"Book updated successfully!\".\nThe book is updated in the database, and changes are reflected in the treeview.\n![](updated.png)",
      "metadata": {}
    },
    {
      "id": "a57b2662-4f6b-4516-b7b1-4a399d0ee0b8",
      "cell_type": "markdown",
      "source": "## 7. Test Case: Deleting a Book\nTest: Delete a book from the library.\n### Steps:\n#### • Select a book from the treeview.\n#### • Click the \"Delete Book\" button.\n## Expected Result:\n## A messagebox shows \"Book deleted successfully!\".\nThe book is removed from the treeview and the database.",
      "metadata": {}
    },
    {
      "id": "a7db4e58-f08f-44eb-93d9-320840f50d5e",
      "cell_type": "markdown",
      "source": "## 8. Test Case: View All Books\nTest: View all books in the library.\n### Steps:\n#### • Click the \"View Books\" button.\n## Expected Result:\n## All books (both available and borrowed) are displayed in the treeview with their availability status.\n",
      "metadata": {}
    },
    {
      "id": "e501ff8f-551c-47a1-8e18-0c6173c6058c",
      "cell_type": "markdown",
      "source": "## 9. Test Case: View Borrowed Books\nTest: View only borrowed books.\n### Steps:\n#### • Click the \"View Borrowed\" button.\n## Expected Result:\n## Only the borrowed books are displayed in the treeview with their status set to \"Borrowed\".",
      "metadata": {}
    },
    {
      "id": "817dbe52-9e3d-4ae2-b7d1-21fe333338cb",
      "cell_type": "markdown",
      "source": "## 10. Test Case: Empty Search Term\nTest: Search with an empty search term.\n### Steps:\n#### • Click the \"Search\" button without entering a term in the search field.\n## Expected Result:\n## A messagebox shows \"Please fill all fields\".\n\n",
      "metadata": {}
    },
    {
      "id": "193f026e-685f-4562-878b-f028bff57e6b",
      "cell_type": "markdown",
      "source": "# Bug Fixes\n\n## Summary of Bug Fixes in New Code:\n### Database Connection: Better handling with try-except.\n#### • Autoincrement for ID: Added AUTOINCREMENT for the id field.\n#### • Search Feature: Added search functionality.\n#### • Availability Display: Improved availability status display (now \"Available\" or \"Borrowed\").\n#### • Borrow/Return Logic: Added availability checks for borrowing and returning books.\n#### • Error Handling: Added try-except blocks around database interactions.\n#### • Code Duplication: Reduced redundant code.\n#### • Scrollbar: Added a scrollbar to the Treeview.\n#### • Database Indexing: Improved performance with indexing on title, author, and genre.\n#### • Autoincrement ID: Ensured proper handling of IDs with AUTOINCREMENT in the database.\nThese improvements collectively make the application more robust, user-friendly, and maintainable.",
      "metadata": {}
    },
    {
      "id": "850305f5-2df0-4501-911b-21fa664eac52",
      "cell_type": "code",
      "source": "## 📁 - Library Management System Functional Code\n\n# Library Management System Code\n\n```python\nimport tkinter as tk\nfrom tkinter import messagebox\nfrom tkinter import ttk\nimport sqlite3\n\n\nclass LibrarySystemDatabase:\n    def __init__(self):\n        self.db_name = 'booklibrary.db'\n        self.create_db()\n\n    def create_db(self):\n        conn = sqlite3.connect(self.db_name)\n        cur = conn.cursor()\n        cur.execute(\"\"\"CREATE TABLE IF NOT EXISTS books (\n            id INTEGER PRIMARY KEY AUTOINCREMENT,\n            title TEXT,\n            author TEXT,\n            genre TEXT,\n            avail INTEGER DEFAULT 1\n        )\"\"\")\n        conn.commit()\n        conn.close()\n\n    def connect_db(self):\n        return sqlite3.connect(self.db_name)\n\n    def fetch_all_books(self):\n        conn = self.connect_db()\n        cur = conn.cursor()\n        cur.execute(\"SELECT * FROM books\")\n        rows = cur.fetchall()\n        conn.close()\n        return rows\n\n    def insert_book(self, title, author, genre):\n        conn = self.connect_db()\n        cur = conn.cursor()\n        cur.execute(\"INSERT INTO books (title, author, genre) VALUES (?, ?, ?)\", (title, author, genre))\n        conn.commit()\n        conn.close()\n\n    def update_book_in_db(self, book_id, title, author, genre):\n        conn = self.connect_db()\n        cur = conn.cursor()\n        cur.execute(\"UPDATE books SET title=?, author=?, genre=? WHERE id=?\", (title, author, genre, book_id))\n        conn.commit()\n        conn.close()\n\n    def delete_book_from_db(self, book_id):\n        conn = self.connect_db()\n        cur = conn.cursor()\n        cur.execute(\"DELETE FROM books WHERE id=?\", (book_id,))\n        conn.commit()\n        conn.close()\n\n    def borrow_book_in_db(self, book_id):\n        conn = self.connect_db()\n        cur = conn.cursor()\n        cur.execute(\"UPDATE books SET avail = 0 WHERE id=?\", (book_id,))\n        conn.commit()\n        conn.close()\n\n    def return_book_in_db(self, book_id):\n        conn = self.connect_db()\n        cur = conn.cursor()\n        cur.execute(\"UPDATE books SET avail = 1 WHERE id=?\", (book_id,))\n        conn.commit()\n        conn.close()\n\n    def search_books_in_db(self, search_term):\n        conn = self.connect_db()\n        cur = conn.cursor()\n        query = \"SELECT * FROM books WHERE title LIKE ? OR author LIKE ? OR genre LIKE ?\"\n        cur.execute(query, ('%' + search_term + '%', '%' + search_term + '%', '%' + search_term + '%'))\n        rows = cur.fetchall()\n        conn.close()\n        return rows\n\n\nclass LibraryManagementSystem(LibrarySystemDatabase):\n    def __init__(self, root):\n        super().__init__()\n\n        self.root = root\n        self.root.title(\"Library Management System\")\n        self.root.configure(bg='#736F6E')\n        self.create_widgets()\n\n    def create_widgets(self):\n        self.title_label = tk.Label(self.root, text=\"BOOK E-LIBRARY\", font=(\"Arial\", 30, \"bold\"), bg='#98918F', fg=\"white\")\n        self.title_label.pack(pady=10)\n\n        self.details_frame = tk.Frame(self.root, bg='#98918F')\n        self.details_frame.pack(pady=10)\n\n        tk.Label(self.details_frame, text=\"Title:\", font=(\"Arial\", 10, \"bold\"), bg='#98918F', fg='white').grid(row=0, column=0, padx=10, pady=5)\n        self.title_entry = tk.Entry(self.details_frame)\n        self.title_entry.grid(row=0, column=1, padx=10, pady=5)\n\n        tk.Label(self.details_frame, text=\"Author:\", font=(\"Arial\", 10, \"bold\"), bg='#98918F', fg='white').grid(row=1, column=0, padx=10, pady=5)\n        self.author_entry = tk.Entry(self.details_frame)\n        self.author_entry.grid(row=1, column=1, padx=10, pady=5)\n\n        tk.Label(self.details_frame, text=\"Genre:\", font=(\"Arial\", 10, \"bold\"), bg='#98918F', fg='white').grid(row=2, column=0, padx=10, pady=5)\n        self.genre_entry = tk.Entry(self.details_frame)\n        self.genre_entry.grid(row=2, column=1, padx=10, pady=5)\n\n        self.button_frame = tk.Frame(self.root, bg='#98918F')\n        self.button_frame.pack(pady=10)\n\n        tk.Button(self.button_frame, text=\"Add Book\", font=(\"Arial\", 10, \"bold\"), bg='#98918F', fg='white', command=self.add_book).grid(row=0, column=0, padx=10, pady=5)\n        tk.Button(self.button_frame, text=\"Update Book\", font=(\"Arial\", 10, \"bold\"), bg='#98918F', fg='white', command=self.update_book).grid(row=0, column=1, padx=10, pady=5)\n        tk.Button(self.button_frame, text=\"Delete Book\", font=(\"Arial\", 10, \"bold\"), bg='#98918F', fg='white', command=self.delete_book).grid(row=0, column=2, padx=10, pady=5)\n        tk.Button(self.button_frame, text=\"Borrow Book\", font=(\"Arial\", 10, \"bold\"), bg='#98918F', fg='white', command=self.borrow_book).grid(row=1, column=0, padx=10, pady=5)\n        tk.Button(self.button_frame, text=\"Return Book\", font=(\"Arial\", 10, \"bold\"), bg='#98918F', fg='white', command=self.return_book).grid(row=1, column=1, padx=10, pady=5)\n        tk.Button(self.button_frame, text=\"Search\", font=(\"Arial\", 10, \"bold\"), bg='#98918F', fg='white', command=self.search_books).grid(row=1, column=2, padx=10, pady=5)\n\n        self.tree = ttk.Treeview(self.root, columns=(\"ID\", \"Title\", \"Author\", \"Genre\", \"Availability\"), show=\"headings\")\n        self.tree.heading(\"ID\", text=\"ID\")\n        self.tree.heading(\"Title\", text=\"Title\")\n        self.tree.heading(\"Author\", text=\"Author\")\n        self.tree.heading(\"Genre\", text=\"Genre\")\n        self.tree.heading(\"Availability\", text=\"Availability\")\n        self.tree.pack(pady=10)\n\n        self.view_books()\n\n    def view_books(self):\n        rows = self.fetch_all_books()\n        self.clear_tree()\n        for row in rows:\n            row = list(row)\n            row[4] = \"Available\" if row[4] == 1 else \"Borrowed\"\n            self.tree.insert(\"\", \"end\", values=row)\n\n    def add_book(self):\n        title = self.title_entry.get()\n        author = self.author_entry.get()\n        genre = self.genre_entry.get()\n        if title and author and genre:\n            self.insert_book(title, author, genre)\n            messagebox.showinfo(\"Success\", \"Book added successfully!\")\n            self.view_books()\n\n    def update_book(self):\n        selected = self.tree.focus()\n        if not selected:\n            messagebox.showerror(\"Error\", \"Select a book to update.\")\n            return\n        values = self.tree.item(selected, \"values\")\n        if values:\n            book_id = values[0]\n            title = self.title_entry.get()\n            author = self.author_entry.get()\n            genre = self.genre_entry.get()\n            self.update_book_in_db(book_id, title, author, genre)\n            messagebox.showinfo(\"Success\", \"Book updated successfully!\")\n            self.view_books()\n\n    def delete_book(self):\n        selected = self.tree.focus()\n        if not selected:\n            messagebox.showerror(\"Error\", \"Select a book to delete.\")\n            return\n        values = self.tree.item(selected, \"values\")\n        if values:\n            book_id = values[0]\n            self.delete_book_from_db(book_id)\n            messagebox.showinfo(\"Success\", \"Book deleted successfully!\")\n            self.view_books()\n\n    def borrow_book(self):\n        selected = self.tree.focus()\n        if not selected:\n            messagebox.showerror(\"Error\", \"Select a book to borrow.\")\n            return\n        values = self.tree.item(selected, \"values\")\n        if values:\n            book_id = values[0]\n            if values[4] == \"Available\":\n                self.borrow_book_in_db(book_id)\n                messagebox.showinfo(\"Success\", \"Book borrowed successfully!\")\n                self.view_books()\n            else:\n                messagebox.showerror(\"Error\", \"Book is already borrowed.\")\n\n    def return_book(self):\n        selected = self.tree.focus()\n        if not selected:\n            messagebox.showerror(\"Error\", \"Select a book to return.\")\n            return\n        values = self.tree.item(selected, \"values\")\n        if values:\n            book_id = values[0]\n            if values[4] == \"Borrowed\":\n                self.return_book_in_db(book_id)\n                messagebox.showinfo(\"Success\", \"Book returned successfully!\")\n                self.view_books()\n            else:\n                messagebox.showerror(\"Error\", \"Book is already available.\")\n\n    def search_books(self):\n        search_term = self.title_entry.get()\n        if not search_term:\n            messagebox.showerror(\"Error\", \"Enter a search term.\")\n            return\n        rows = self.search_books_in_db(search_term)\n        self.clear_tree()\n        for row in rows:\n            row = list(row)\n            row[4] = \"Available\" if row[4] == 1 else \"Borrowed\"\n            self.tree.insert(\"\", \"end\", values=row)\n\n    def clear_tree(self):\n        self.tree.delete(*self.tree.get_children())\n\n\nif __name__ == \"__main__\":\n    root = tk.Tk()\n    app = LibraryManagementSystem(root)\n    root.mainloop()",
      "metadata": {
        "trusted": true
      },
      "outputs": [],
      "execution_count": null
    },
    {
      "id": "8a2e3372",
      "cell_type": "markdown",
      "source": "## 🌟 Project Highlights\n- **Simple** yet **powerful** database management using SQLite.\n- **User-friendly GUI** designed with Tkinter.\n- Easily extendable and customizable.\n\n---\n\n**End of Documentation**",
      "metadata": {
        "jp-MarkdownHeadingCollapsed": true
      }
    }
  ]
}